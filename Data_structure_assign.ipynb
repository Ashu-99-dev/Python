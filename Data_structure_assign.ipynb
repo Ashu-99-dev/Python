{
 "cells": [
  {
   "cell_type": "code",
   "execution_count": 1,
   "id": "14f76cdc-64d0-4263-826a-21cd39b1de7e",
   "metadata": {},
   "outputs": [],
   "source": [
    "#Q1.Discuss string slicing and provide examples"
   ]
  },
  {
   "cell_type": "code",
   "execution_count": 2,
   "id": "363ed5f4-a734-497c-a66f-d46a42f547ee",
   "metadata": {},
   "outputs": [
    {
     "data": {
      "text/plain": [
       "'Hello world'"
      ]
     },
     "execution_count": 2,
     "metadata": {},
     "output_type": "execute_result"
    }
   ],
   "source": [
    "#   012345678910  - forward indexing \n",
    "a =\"Hello world\"\n",
    "#          -2-1 - backward indexing from -1\n",
    "a"
   ]
  },
  {
   "cell_type": "code",
   "execution_count": 3,
   "id": "f4c5ee70-e391-410f-aabb-92693c0bf9fe",
   "metadata": {},
   "outputs": [
    {
     "data": {
      "text/plain": [
       "'He'"
      ]
     },
     "execution_count": 3,
     "metadata": {},
     "output_type": "execute_result"
    }
   ],
   "source": [
    "a[0:2]  #variable[starting index: ending index]"
   ]
  },
  {
   "cell_type": "code",
   "execution_count": 4,
   "id": "95117a42-ac9b-43e6-af79-36b0eb368a02",
   "metadata": {},
   "outputs": [
    {
     "data": {
      "text/plain": [
       "'e'"
      ]
     },
     "execution_count": 4,
     "metadata": {},
     "output_type": "execute_result"
    }
   ],
   "source": [
    "a[1] "
   ]
  },
  {
   "cell_type": "code",
   "execution_count": 5,
   "id": "3dbdbd42-c96d-4b0d-85d9-0aab83af6a8d",
   "metadata": {},
   "outputs": [
    {
     "data": {
      "text/plain": [
       "'Hello '"
      ]
     },
     "execution_count": 5,
     "metadata": {},
     "output_type": "execute_result"
    }
   ],
   "source": [
    "a[:6] # 0->5 index"
   ]
  },
  {
   "cell_type": "code",
   "execution_count": 8,
   "id": "58c9164c-5a19-4da8-8a7e-d6748e4d1f5c",
   "metadata": {},
   "outputs": [
    {
     "data": {
      "text/plain": [
       "'ello world'"
      ]
     },
     "execution_count": 8,
     "metadata": {},
     "output_type": "execute_result"
    }
   ],
   "source": [
    "a[1::1]  # first index to last index"
   ]
  },
  {
   "cell_type": "code",
   "execution_count": 7,
   "id": "ebe899aa-dbd6-462f-8d56-bbcd4a9ed811",
   "metadata": {},
   "outputs": [
    {
     "data": {
      "text/plain": [
       "'Hlowrd'"
      ]
     },
     "execution_count": 7,
     "metadata": {},
     "output_type": "execute_result"
    }
   ],
   "source": [
    "a[0::2] #here 2 is for print alternate seqeunce\n",
    "# but default is 1 for example- [::1]"
   ]
  },
  {
   "cell_type": "code",
   "execution_count": 11,
   "id": "e529b0e8-a2b9-4b83-ac34-3d05d53a3436",
   "metadata": {},
   "outputs": [
    {
     "data": {
      "text/plain": [
       "'dlrow olleH'"
      ]
     },
     "execution_count": 11,
     "metadata": {},
     "output_type": "execute_result"
    }
   ],
   "source": [
    "a[::-1] # here is for accessing form backward "
   ]
  },
  {
   "cell_type": "code",
   "execution_count": 16,
   "id": "63a80371-78e4-4d5f-b15a-79d96bac3e8e",
   "metadata": {},
   "outputs": [
    {
     "data": {
      "text/plain": [
       "'dlro'"
      ]
     },
     "execution_count": 16,
     "metadata": {},
     "output_type": "execute_result"
    }
   ],
   "source": [
    "a[-1:-5:-1]"
   ]
  },
  {
   "cell_type": "code",
   "execution_count": 19,
   "id": "d0a057f6-0f65-474c-b028-eea3858414e4",
   "metadata": {},
   "outputs": [
    {
     "data": {
      "text/plain": [
       "11"
      ]
     },
     "execution_count": 19,
     "metadata": {},
     "output_type": "execute_result"
    }
   ],
   "source": [
    "len(a)"
   ]
  },
  {
   "cell_type": "code",
   "execution_count": null,
   "id": "f045c64e-796e-499f-8405-495284de00f2",
   "metadata": {},
   "outputs": [],
   "source": [
    "#Q2.Explain the key features of lists in Python "
   ]
  },
  {
   "cell_type": "code",
   "execution_count": 21,
   "id": "6ccd8d27-4265-4017-843c-f65bd62cd57e",
   "metadata": {},
   "outputs": [
    {
     "name": "stdout",
     "output_type": "stream",
     "text": [
      "Lists are ordered.\n",
      "Lists can contain any arbitrary objects.\n",
      "List elements can be accessed by index.\n",
      "Lists can be nested to arbitrary depth.\n",
      "Lists are mutable.\n",
      "Lists are dynamic\n"
     ]
    }
   ],
   "source": [
    "print(\"\"\"Lists are ordered.\n",
    "Lists can contain any arbitrary objects.\n",
    "List elements can be accessed by index.\n",
    "Lists can be nested to arbitrary depth.\n",
    "Lists are mutable.\n",
    "Lists are dynamic\"\"\")"
   ]
  },
  {
   "cell_type": "code",
   "execution_count": 21,
   "id": "2691b2b7-92a9-4cf4-8cae-19d6d7f3fd59",
   "metadata": {},
   "outputs": [
    {
     "data": {
      "text/plain": [
       "[2.3, 3, 'ashu', 'shatma', (5+6j)]"
      ]
     },
     "execution_count": 21,
     "metadata": {},
     "output_type": "execute_result"
    }
   ],
   "source": [
    "a = [2.3,3,'ashu','shatma',5+6j]\n",
    "a"
   ]
  },
  {
   "cell_type": "code",
   "execution_count": 26,
   "id": "7d3a8f46-fbf6-4369-b04b-d0cc5f3dfaec",
   "metadata": {},
   "outputs": [
    {
     "data": {
      "text/plain": [
       "list"
      ]
     },
     "execution_count": 26,
     "metadata": {},
     "output_type": "execute_result"
    }
   ],
   "source": [
    "type(a)"
   ]
  },
  {
   "cell_type": "code",
   "execution_count": 27,
   "id": "882cb1d4-72f7-405a-abb3-888171ef099c",
   "metadata": {},
   "outputs": [],
   "source": [
    "#Q3. Describe how to access, modify, and delete elements in a list with examples"
   ]
  },
  {
   "cell_type": "code",
   "execution_count": 28,
   "id": "9b915f32-299c-4a8b-b581-76e6e75ddef2",
   "metadata": {},
   "outputs": [
    {
     "data": {
      "text/plain": [
       "[2.3, 3, 'ashu', 'shatma', (5+6j)]"
      ]
     },
     "execution_count": 28,
     "metadata": {},
     "output_type": "execute_result"
    }
   ],
   "source": [
    "a"
   ]
  },
  {
   "cell_type": "code",
   "execution_count": 30,
   "id": "60da7118-70f0-46e7-a3f1-385ade0da3b6",
   "metadata": {},
   "outputs": [
    {
     "data": {
      "text/plain": [
       "list"
      ]
     },
     "execution_count": 30,
     "metadata": {},
     "output_type": "execute_result"
    }
   ],
   "source": [
    "type(a)"
   ]
  },
  {
   "cell_type": "code",
   "execution_count": 31,
   "id": "f3573501-b725-4457-988f-43e045138a13",
   "metadata": {},
   "outputs": [
    {
     "data": {
      "text/plain": [
       "'ashu'"
      ]
     },
     "execution_count": 31,
     "metadata": {},
     "output_type": "execute_result"
    }
   ],
   "source": [
    "a[2] #we can access element in list same as string "
   ]
  },
  {
   "cell_type": "code",
   "execution_count": 34,
   "id": "e43b6313-6308-4363-b3e2-2b677e1f23d0",
   "metadata": {},
   "outputs": [
    {
     "data": {
      "text/plain": [
       "[(5+6j), 'shatma']"
      ]
     },
     "execution_count": 34,
     "metadata": {},
     "output_type": "execute_result"
    }
   ],
   "source": [
    "a[4:2:-1]"
   ]
  },
  {
   "cell_type": "code",
   "execution_count": 43,
   "id": "dff4e614-0f55-4c90-9400-e910e314baef",
   "metadata": {},
   "outputs": [
    {
     "name": "stdout",
     "output_type": "stream",
     "text": [
      "2.3\n",
      "cooding\n",
      "2\n",
      "3\n",
      "(5+6j)\n"
     ]
    }
   ],
   "source": [
    "for i in a:\n",
    "    print(i)"
   ]
  },
  {
   "cell_type": "code",
   "execution_count": 4,
   "id": "80a3c372-f82b-492b-8feb-88e5e18afb5e",
   "metadata": {},
   "outputs": [
    {
     "name": "stdout",
     "output_type": "stream",
     "text": [
      "Yes, 'apple' is in the fruits list\n"
     ]
    }
   ],
   "source": [
    "thislist = [\"apple\", \"banana\", \"cherry\"]\n",
    "if \"apple\" in thislist:\n",
    "    print(\"Yes, 'apple' is in the fruits list\")"
   ]
  },
  {
   "cell_type": "code",
   "execution_count": 36,
   "id": "5ee3235b-9b0b-4c30-b872-62186da10417",
   "metadata": {},
   "outputs": [
    {
     "name": "stdout",
     "output_type": "stream",
     "text": [
      "Yes, 'apple' is in the fruits list\n"
     ]
    }
   ],
   "source": [
    "#there are many to modifiy list \n",
    "#1. By indixing \n",
    "#2. By append comand by append we can add element in list in last \n",
    "#3. By insert comand by insert we can add element in list in a specific index within list "
   ]
  },
  {
   "cell_type": "code",
   "execution_count": 37,
   "id": "5b56ee02-ea8e-4da2-b99d-de5c6ed3299c",
   "metadata": {},
   "outputs": [
    {
     "data": {
      "text/plain": [
       "[2.3, 3, 'ashu', 'shatma', (5+6j)]"
      ]
     },
     "execution_count": 37,
     "metadata": {},
     "output_type": "execute_result"
    }
   ],
   "source": [
    "a"
   ]
  },
  {
   "cell_type": "code",
   "execution_count": 40,
   "id": "65408d2e-9320-497a-b9fc-23820951fc1a",
   "metadata": {},
   "outputs": [
    {
     "data": {
      "text/plain": [
       "[2.3, 'cooding', 'ashu', 'shatma', (5+6j)]"
      ]
     },
     "execution_count": 40,
     "metadata": {},
     "output_type": "execute_result"
    }
   ],
   "source": [
    "a[1] = \"cooding\"\n",
    "a"
   ]
  },
  {
   "cell_type": "code",
   "execution_count": 42,
   "id": "498b9ce8-1b57-4753-b929-a31eb8a38c35",
   "metadata": {},
   "outputs": [
    {
     "data": {
      "text/plain": [
       "[2.3, 'cooding', 2, 3, (5+6j)]"
      ]
     },
     "execution_count": 42,
     "metadata": {},
     "output_type": "execute_result"
    }
   ],
   "source": [
    "a[2:4]= 2,3 \n",
    "a"
   ]
  },
  {
   "cell_type": "code",
   "execution_count": 5,
   "id": "ee15d4cc-6d1a-4e1b-8b19-820d1b89d604",
   "metadata": {},
   "outputs": [
    {
     "data": {
      "text/plain": [
       "['apple', 'banana', 'cherry']"
      ]
     },
     "execution_count": 5,
     "metadata": {},
     "output_type": "execute_result"
    }
   ],
   "source": [
    "thislist"
   ]
  },
  {
   "cell_type": "code",
   "execution_count": 6,
   "id": "c8d9d01e-ff47-4789-a849-1ea9c31540d3",
   "metadata": {},
   "outputs": [
    {
     "data": {
      "text/plain": [
       "['apple', 'banana', 'cherry', 'mango']"
      ]
     },
     "execution_count": 6,
     "metadata": {},
     "output_type": "execute_result"
    }
   ],
   "source": [
    "thislist.append(\"mango\")  # if this code is run twice then mango is added to the list two times\n",
    "thislist"
   ]
  },
  {
   "cell_type": "code",
   "execution_count": 8,
   "id": "4ef4a2e1-fdc7-4059-82e2-2734d5cfec6d",
   "metadata": {},
   "outputs": [
    {
     "ename": "TypeError",
     "evalue": "list.append() takes exactly one argument (2 given)",
     "output_type": "error",
     "traceback": [
      "\u001b[0;31m---------------------------------------------------------------------------\u001b[0m",
      "\u001b[0;31mTypeError\u001b[0m                                 Traceback (most recent call last)",
      "Cell \u001b[0;32mIn[8], line 1\u001b[0m\n\u001b[0;32m----> 1\u001b[0m \u001b[43mthislist\u001b[49m\u001b[38;5;241;43m.\u001b[39;49m\u001b[43mappend\u001b[49m\u001b[43m(\u001b[49m\u001b[38;5;124;43m\"\u001b[39;49m\u001b[38;5;124;43mmango\u001b[39;49m\u001b[38;5;124;43m\"\u001b[39;49m\u001b[43m,\u001b[49m\u001b[38;5;124;43m\"\u001b[39;49m\u001b[38;5;124;43mpreworkout\u001b[39;49m\u001b[38;5;124;43m\"\u001b[39;49m\u001b[43m)\u001b[49m \u001b[38;5;66;03m# we can not add two obeject in single append command\u001b[39;00m\n",
      "\u001b[0;31mTypeError\u001b[0m: list.append() takes exactly one argument (2 given)"
     ]
    }
   ],
   "source": [
    "thislist.append(\"mango\",\"preworkout\") # we can not add two obeject in single append command"
   ]
  },
  {
   "cell_type": "code",
   "execution_count": 9,
   "id": "c37e2675-4509-4c81-88e6-5c8ad7debed8",
   "metadata": {},
   "outputs": [
    {
     "data": {
      "text/plain": [
       "['workout', 'apple', 'banana', 'cherry', 'mango']"
      ]
     },
     "execution_count": 9,
     "metadata": {},
     "output_type": "execute_result"
    }
   ],
   "source": [
    "thislist.insert(0,\"workout\")\n",
    "thislist"
   ]
  },
  {
   "cell_type": "code",
   "execution_count": 10,
   "id": "6e110f4f-3938-4d82-9db6-5e5a45fb8174",
   "metadata": {},
   "outputs": [
    {
     "data": {
      "text/plain": [
       "['workout', 'apple', 'banana', 'cherry', 'mango', 2, 3]"
      ]
     },
     "execution_count": 10,
     "metadata": {},
     "output_type": "execute_result"
    }
   ],
   "source": [
    "thislist1=[2,3]\n",
    "thislist.extend(thislist1) #extend is used for adding list in another list in list \n",
    "thislist"
   ]
  },
  {
   "cell_type": "code",
   "execution_count": 11,
   "id": "95116304-dfcc-4584-b27f-8a2731b28373",
   "metadata": {},
   "outputs": [
    {
     "data": {
      "text/plain": [
       "['workout', 'apple', 'banana', 'cherry', 'mango', 2]"
      ]
     },
     "execution_count": 11,
     "metadata": {},
     "output_type": "execute_result"
    }
   ],
   "source": [
    "thislist.remove(3)   # .remove is used to remove particlar element \n",
    "thislist"
   ]
  },
  {
   "cell_type": "code",
   "execution_count": 12,
   "id": "c282f845-7cd2-4d0b-85b7-ef7e8de53aa3",
   "metadata": {},
   "outputs": [
    {
     "data": {
      "text/plain": [
       "['apple', 'banana', 'cherry', 'mango', 2]"
      ]
     },
     "execution_count": 12,
     "metadata": {},
     "output_type": "execute_result"
    }
   ],
   "source": [
    "thislist.pop(0)  # .pop is used to delete the element which is present on the index\n",
    "thislist"
   ]
  },
  {
   "cell_type": "code",
   "execution_count": 14,
   "id": "35ef1e19-792c-41a9-919a-15256157a682",
   "metadata": {},
   "outputs": [
    {
     "data": {
      "text/plain": [
       "['apple', 'banana', 'cherry']"
      ]
     },
     "execution_count": 14,
     "metadata": {},
     "output_type": "execute_result"
    }
   ],
   "source": [
    "thislist.pop()  # .pop() is used to delete the last element of the list\n",
    "thislist"
   ]
  },
  {
   "cell_type": "code",
   "execution_count": 15,
   "id": "167cb836-02d8-4928-820a-ee70d2b1ef30",
   "metadata": {},
   "outputs": [
    {
     "data": {
      "text/plain": [
       "['apple', 'cherry']"
      ]
     },
     "execution_count": 15,
     "metadata": {},
     "output_type": "execute_result"
    }
   ],
   "source": [
    "del thislist[1]  #this is same as pop\n",
    "thislist"
   ]
  },
  {
   "cell_type": "code",
   "execution_count": 19,
   "id": "16b81f75-bc57-48ff-9354-c1e921ac7144",
   "metadata": {},
   "outputs": [
    {
     "ename": "NameError",
     "evalue": "name 'thislist' is not defined",
     "output_type": "error",
     "traceback": [
      "\u001b[0;31m---------------------------------------------------------------------------\u001b[0m",
      "\u001b[0;31mNameError\u001b[0m                                 Traceback (most recent call last)",
      "Cell \u001b[0;32mIn[19], line 1\u001b[0m\n\u001b[0;32m----> 1\u001b[0m \u001b[38;5;28;01mdel\u001b[39;00m thislist \u001b[38;5;66;03m# delete all object of list \u001b[39;00m\n\u001b[1;32m      2\u001b[0m thislist\n",
      "\u001b[0;31mNameError\u001b[0m: name 'thislist' is not defined"
     ]
    }
   ],
   "source": [
    "del thislist # delete the entire list  \n",
    "thislist"
   ]
  },
  {
   "cell_type": "code",
   "execution_count": 22,
   "id": "4a773949-c189-4a94-9a99-e6f33a5cfc66",
   "metadata": {},
   "outputs": [
    {
     "data": {
      "text/plain": [
       "[2.3, 3, 'ashu', 'shatma', (5+6j)]"
      ]
     },
     "execution_count": 22,
     "metadata": {},
     "output_type": "execute_result"
    }
   ],
   "source": [
    "a"
   ]
  },
  {
   "cell_type": "code",
   "execution_count": 23,
   "id": "c73bb89c-f57a-4f03-acd4-7e5bd2e94296",
   "metadata": {},
   "outputs": [
    {
     "data": {
      "text/plain": [
       "list"
      ]
     },
     "execution_count": 23,
     "metadata": {},
     "output_type": "execute_result"
    }
   ],
   "source": [
    "type(a)"
   ]
  },
  {
   "cell_type": "code",
   "execution_count": 26,
   "id": "2e3c83e7-46a1-45a7-9d38-f3c795115799",
   "metadata": {},
   "outputs": [
    {
     "data": {
      "text/plain": [
       "[]"
      ]
     },
     "execution_count": 26,
     "metadata": {},
     "output_type": "execute_result"
    }
   ],
   "source": [
    "a.clear()   # .clear is delete all element present in list\n",
    "a"
   ]
  },
  {
   "cell_type": "code",
   "execution_count": null,
   "id": "28924267-9bf6-4464-9a4a-1dcaf8230b3d",
   "metadata": {},
   "outputs": [],
   "source": [
    "# Q4. Compare and contrast tuples and lists with exmples?"
   ]
  },
  {
   "cell_type": "code",
   "execution_count": null,
   "id": "5c49ee1f-78fb-4f1c-93fd-5cae643a2896",
   "metadata": {},
   "outputs": [],
   "source": [
    "### similarity between tuples and lists are :-\n",
    "## Both are access by indexing and both are ordered\n",
    "# Both are store different type of value ex:- int,float,str,etc"
   ]
  },
  {
   "cell_type": "code",
   "execution_count": null,
   "id": "01ea69bc-15cf-43c4-a779-2e9d839041ed",
   "metadata": {},
   "outputs": [],
   "source": [
    "### Difference between tuples and lists are:-\n",
    "## In tuples :- these are immutable and we cannot add value in tuples\n",
    "# In lists :- Lists are mutables and we can add ,modify a list"
   ]
  },
  {
   "cell_type": "code",
   "execution_count": 48,
   "id": "211be54c-ec6f-43c9-8b6e-a29c13d2f35f",
   "metadata": {},
   "outputs": [
    {
     "data": {
      "text/plain": [
       "(1, 2.3, (2+3j), 'mca', 'nda')"
      ]
     },
     "execution_count": 48,
     "metadata": {},
     "output_type": "execute_result"
    }
   ],
   "source": [
    "a=(1,2.3,2+3j,\"mca\",\"nda\")\n",
    "a"
   ]
  },
  {
   "cell_type": "code",
   "execution_count": 28,
   "id": "26451118-da09-4b27-8d0c-5b5d0099bab4",
   "metadata": {},
   "outputs": [
    {
     "data": {
      "text/plain": [
       "tuple"
      ]
     },
     "execution_count": 28,
     "metadata": {},
     "output_type": "execute_result"
    }
   ],
   "source": [
    "type(a)"
   ]
  },
  {
   "cell_type": "code",
   "execution_count": 31,
   "id": "557456a3-8f1b-4cb2-b7f3-1b60522d27cc",
   "metadata": {},
   "outputs": [
    {
     "data": {
      "text/plain": [
       "2.3"
      ]
     },
     "execution_count": 31,
     "metadata": {},
     "output_type": "execute_result"
    }
   ],
   "source": [
    "a[1]"
   ]
  },
  {
   "cell_type": "code",
   "execution_count": 33,
   "id": "2566512d-4b33-4a8d-9500-052b6e95df5a",
   "metadata": {},
   "outputs": [
    {
     "data": {
      "text/plain": [
       "('nda', 'mca', (2+3j), 2.3, 1)"
      ]
     },
     "execution_count": 33,
     "metadata": {},
     "output_type": "execute_result"
    }
   ],
   "source": [
    "a[-1::-1]"
   ]
  },
  {
   "cell_type": "code",
   "execution_count": 43,
   "id": "a891d4c1-3e1d-4908-982e-4b531ce40801",
   "metadata": {},
   "outputs": [
    {
     "data": {
      "text/plain": [
       "100"
      ]
     },
     "execution_count": 43,
     "metadata": {},
     "output_type": "execute_result"
    }
   ],
   "source": [
    "b=(2,100,0,3)\n",
    "max(b)\n"
   ]
  },
  {
   "cell_type": "code",
   "execution_count": 42,
   "id": "eb5edc85-fcd0-4ab7-9dcf-d80fe82bfa6b",
   "metadata": {},
   "outputs": [
    {
     "data": {
      "text/plain": [
       "(1, 2.3, (2+3j), 'mca', 'nda', 2, 100, 0, 3)"
      ]
     },
     "execution_count": 42,
     "metadata": {},
     "output_type": "execute_result"
    }
   ],
   "source": [
    "c=a+b\n",
    "c"
   ]
  },
  {
   "cell_type": "code",
   "execution_count": 39,
   "id": "b8c6f2e4-6327-412c-9585-89a9aee5df18",
   "metadata": {},
   "outputs": [
    {
     "ename": "TypeError",
     "evalue": "'tuple' object does not support item assignment",
     "output_type": "error",
     "traceback": [
      "\u001b[0;31m---------------------------------------------------------------------------\u001b[0m",
      "\u001b[0;31mTypeError\u001b[0m                                 Traceback (most recent call last)",
      "Cell \u001b[0;32mIn[39], line 1\u001b[0m\n\u001b[0;32m----> 1\u001b[0m \u001b[43mc\u001b[49m\u001b[43m[\u001b[49m\u001b[38;5;241;43m2\u001b[39;49m\u001b[43m]\u001b[49m\u001b[38;5;241m=\u001b[39m\u001b[38;5;241m100\u001b[39m\n",
      "\u001b[0;31mTypeError\u001b[0m: 'tuple' object does not support item assignment"
     ]
    }
   ],
   "source": [
    "c[2]=100  #value of tuples cannot be change"
   ]
  },
  {
   "cell_type": "code",
   "execution_count": 44,
   "id": "2981046b-dbdb-4876-bfd2-75ce2edc9b72",
   "metadata": {},
   "outputs": [
    {
     "data": {
      "text/plain": [
       "True"
      ]
     },
     "execution_count": 44,
     "metadata": {},
     "output_type": "execute_result"
    }
   ],
   "source": [
    "2.3 in c"
   ]
  },
  {
   "cell_type": "code",
   "execution_count": 45,
   "id": "cc7b238e-d922-4980-8446-f10514bcf784",
   "metadata": {},
   "outputs": [
    {
     "data": {
      "text/plain": [
       "[1, 2.3, (2+3j), 'mca', 'nda']"
      ]
     },
     "execution_count": 45,
     "metadata": {},
     "output_type": "execute_result"
    }
   ],
   "source": [
    "a=[1,2.3,2+3j,\"mca\",\"nda\"]\n",
    "a"
   ]
  },
  {
   "cell_type": "code",
   "execution_count": 46,
   "id": "753abcf4-612d-4e15-a4cf-9cea10ab4dca",
   "metadata": {},
   "outputs": [
    {
     "data": {
      "text/plain": [
       "list"
      ]
     },
     "execution_count": 46,
     "metadata": {},
     "output_type": "execute_result"
    }
   ],
   "source": [
    "type(a)"
   ]
  },
  {
   "cell_type": "code",
   "execution_count": 47,
   "id": "5943d9a8-c616-4432-84f4-4fe5ae102b49",
   "metadata": {},
   "outputs": [
    {
     "data": {
      "text/plain": [
       "[1, 2.3, 100, 'mca', 'nda']"
      ]
     },
     "execution_count": 47,
     "metadata": {},
     "output_type": "execute_result"
    }
   ],
   "source": [
    "a[2]=100   #list support modification \n",
    "a"
   ]
  },
  {
   "cell_type": "code",
   "execution_count": 49,
   "id": "1f8c43ac-cc4e-46fc-afc5-e205edbb2482",
   "metadata": {},
   "outputs": [
    {
     "data": {
      "text/plain": [
       "((1, 2.3, (2+3j), 'mca', 'nda'), (2, 100, 0, 3))"
      ]
     },
     "execution_count": 49,
     "metadata": {},
     "output_type": "execute_result"
    }
   ],
   "source": [
    "c=(a,b) #nested tuples\n",
    "c"
   ]
  },
  {
   "cell_type": "code",
   "execution_count": 50,
   "id": "f8e87398-b1d8-4de1-860f-479d4b7152e5",
   "metadata": {},
   "outputs": [],
   "source": [
    "#Q5. Describe the key features of sets and provide examples of their use ?"
   ]
  },
  {
   "cell_type": "code",
   "execution_count": null,
   "id": "95705c9f-536b-4da5-a68a-a986210199fb",
   "metadata": {},
   "outputs": [],
   "source": [
    "### The Key features of sets are:-\n",
    "## The values of set are always unique  \n",
    "# SEts are unordered"
   ]
  },
  {
   "cell_type": "code",
   "execution_count": 64,
   "id": "c9780e09-82fd-43e0-9788-a2963ba9d5ad",
   "metadata": {},
   "outputs": [
    {
     "data": {
      "text/plain": [
       "{'apple', 'guava', 'jackfruit', 'mangoes'}"
      ]
     },
     "execution_count": 64,
     "metadata": {},
     "output_type": "execute_result"
    }
   ],
   "source": [
    "a ={\"apple\",\"mangoes\",\"guava\",\"jackfruit\",\"apple\",\"mangoes\"}\n",
    "a ## all the values are unique because in sets there is no repeation"
   ]
  },
  {
   "cell_type": "code",
   "execution_count": 52,
   "id": "22c0ba74-736b-41a1-968c-4732d24c992c",
   "metadata": {},
   "outputs": [
    {
     "ename": "TypeError",
     "evalue": "'set' object is not subscriptable",
     "output_type": "error",
     "traceback": [
      "\u001b[0;31m---------------------------------------------------------------------------\u001b[0m",
      "\u001b[0;31mTypeError\u001b[0m                                 Traceback (most recent call last)",
      "Cell \u001b[0;32mIn[52], line 1\u001b[0m\n\u001b[0;32m----> 1\u001b[0m \u001b[43ma\u001b[49m\u001b[43m[\u001b[49m\u001b[38;5;241;43m0\u001b[39;49m\u001b[43m]\u001b[49m\n",
      "\u001b[0;31mTypeError\u001b[0m: 'set' object is not subscriptable"
     ]
    }
   ],
   "source": [
    "a[0] # also we can not access value by indexing because set is unordered"
   ]
  },
  {
   "cell_type": "code",
   "execution_count": 56,
   "id": "cd75b8da-8af9-43cc-9074-b938236cd70e",
   "metadata": {},
   "outputs": [
    {
     "data": {
      "text/plain": [
       "{2, 'apple', 'guava', 'jackfruit', 'mangoes'}"
      ]
     },
     "execution_count": 56,
     "metadata": {},
     "output_type": "execute_result"
    }
   ],
   "source": [
    "a.add(2,)\n",
    "a"
   ]
  },
  {
   "cell_type": "code",
   "execution_count": 58,
   "id": "e03a4615-b6a1-4c96-b86b-12cf15e3c595",
   "metadata": {},
   "outputs": [
    {
     "data": {
      "text/plain": [
       "2"
      ]
     },
     "execution_count": 58,
     "metadata": {},
     "output_type": "execute_result"
    }
   ],
   "source": [
    "a.pop()  # in set it is not necessary that pop is only remove last element\n",
    "### in this case pop is remove first element of set"
   ]
  },
  {
   "cell_type": "code",
   "execution_count": 66,
   "id": "ab90340f-68f9-4da0-85c9-c734728265fa",
   "metadata": {},
   "outputs": [
    {
     "data": {
      "text/plain": [
       "{'guava', 'jackfruit', 'mangoes'}"
      ]
     },
     "execution_count": 66,
     "metadata": {},
     "output_type": "execute_result"
    }
   ],
   "source": [
    "a.remove(\"apple\")   # .remove is used to remove element from set \n",
    "a"
   ]
  },
  {
   "cell_type": "code",
   "execution_count": 68,
   "id": "3e70689a-64c4-4823-b6fa-d88f684efb50",
   "metadata": {},
   "outputs": [
    {
     "data": {
      "text/plain": [
       "{'A', 'guava', 'h', 'jackfruit', 'mangoes', 's', 'u'}"
      ]
     },
     "execution_count": 68,
     "metadata": {},
     "output_type": "execute_result"
    }
   ],
   "source": [
    "a.update(\"Ashu\")  # iterative update \n",
    "a"
   ]
  },
  {
   "cell_type": "code",
   "execution_count": 71,
   "id": "f73397a5-6d65-4630-baee-d16f11e25e04",
   "metadata": {},
   "outputs": [
    {
     "data": {
      "text/plain": [
       "{'A', 'Ashu', 'guava', 'h', 'jackfruit', 'mangoes', 's', 'u'}"
      ]
     },
     "execution_count": 71,
     "metadata": {},
     "output_type": "execute_result"
    }
   ],
   "source": [
    "a.update([\"Ashu\"])   #update as a whole string\n",
    "a"
   ]
  },
  {
   "cell_type": "code",
   "execution_count": 74,
   "id": "e1f88cb2-432b-4b86-b3dd-614140ce7725",
   "metadata": {},
   "outputs": [
    {
     "data": {
      "text/plain": [
       "{2, 3, 'A', 'Ashu', 'guava', 'h', 'jackfruit', 'mangoes', 's', 'u'}"
      ]
     },
     "execution_count": 74,
     "metadata": {},
     "output_type": "execute_result"
    }
   ],
   "source": [
    "a.update([2,3])\n",
    "a"
   ]
  },
  {
   "cell_type": "code",
   "execution_count": 75,
   "id": "f532e60d-2af6-4371-ab57-cb178bb067d0",
   "metadata": {},
   "outputs": [
    {
     "data": {
      "text/plain": [
       "{2, 3, 'h', 'u'}"
      ]
     },
     "execution_count": 75,
     "metadata": {},
     "output_type": "execute_result"
    }
   ],
   "source": [
    "b = {2,3,'h','u'}\n",
    "b"
   ]
  },
  {
   "cell_type": "code",
   "execution_count": 76,
   "id": "5d746173-7c72-434c-bf02-2dd573f8b1e5",
   "metadata": {},
   "outputs": [
    {
     "data": {
      "text/plain": [
       "{2, 3, 'A', 'Ashu', 'guava', 'h', 'jackfruit', 'mangoes', 's', 'u'}"
      ]
     },
     "execution_count": 76,
     "metadata": {},
     "output_type": "execute_result"
    }
   ],
   "source": [
    "a|b   # a or b print all the element present in a and b"
   ]
  },
  {
   "cell_type": "code",
   "execution_count": 77,
   "id": "08a2a911-d012-49e0-a863-825fbbd79bb2",
   "metadata": {},
   "outputs": [
    {
     "data": {
      "text/plain": [
       "{2, 3, 'h', 'u'}"
      ]
     },
     "execution_count": 77,
     "metadata": {},
     "output_type": "execute_result"
    }
   ],
   "source": [
    "a&b    # print only common element "
   ]
  },
  {
   "cell_type": "code",
   "execution_count": 78,
   "id": "9040d02b-f4c4-49e5-94d9-a76109195cd2",
   "metadata": {},
   "outputs": [
    {
     "data": {
      "text/plain": [
       "{'A', 'Ashu', 'guava', 'jackfruit', 'mangoes', 's'}"
      ]
     },
     "execution_count": 78,
     "metadata": {},
     "output_type": "execute_result"
    }
   ],
   "source": [
    "a^b   # symmetric differece"
   ]
  },
  {
   "cell_type": "code",
   "execution_count": 81,
   "id": "5e2660fb-150d-4c5d-8e7b-4a86520c92d4",
   "metadata": {},
   "outputs": [
    {
     "data": {
      "text/plain": [
       "set()"
      ]
     },
     "execution_count": 81,
     "metadata": {},
     "output_type": "execute_result"
    }
   ],
   "source": [
    "b-a"
   ]
  },
  {
   "cell_type": "code",
   "execution_count": 82,
   "id": "573540f6-26e1-4d96-92c1-ac494c7d784b",
   "metadata": {},
   "outputs": [
    {
     "data": {
      "text/plain": [
       "{2, 3, 'A', 'guava', 'h', 'jackfruit', 'mangoes', 's', 'u'}"
      ]
     },
     "execution_count": 82,
     "metadata": {},
     "output_type": "execute_result"
    }
   ],
   "source": [
    "a.discard('Ashu')   #discard is also used to remove element from sets\n",
    "a"
   ]
  },
  {
   "cell_type": "code",
   "execution_count": 85,
   "id": "b8ab7460-c911-4dbb-9c13-2a2ce1ee07ae",
   "metadata": {},
   "outputs": [
    {
     "data": {
      "text/plain": [
       "frozenset({1, 100, 4, 'ashu', 'maths'})"
      ]
     },
     "execution_count": 85,
     "metadata": {},
     "output_type": "execute_result"
    }
   ],
   "source": [
    "# frozen set is also a type ofset that is not mutable.We can not modify or add element in frozen set\n",
    "\n",
    "x = frozenset(['ashu',1,'maths',4,100])\n",
    "x"
   ]
  },
  {
   "cell_type": "code",
   "execution_count": 86,
   "id": "32497e44-380f-4f4f-bc8a-0ab886c171c1",
   "metadata": {},
   "outputs": [
    {
     "data": {
      "text/plain": [
       "frozenset"
      ]
     },
     "execution_count": 86,
     "metadata": {},
     "output_type": "execute_result"
    }
   ],
   "source": [
    "type(x)"
   ]
  },
  {
   "cell_type": "code",
   "execution_count": 87,
   "id": "05f44b6d-c87a-41c1-aa2b-77d9335437f4",
   "metadata": {},
   "outputs": [
    {
     "ename": "AttributeError",
     "evalue": "'frozenset' object has no attribute 'add'",
     "output_type": "error",
     "traceback": [
      "\u001b[0;31m---------------------------------------------------------------------------\u001b[0m",
      "\u001b[0;31mAttributeError\u001b[0m                            Traceback (most recent call last)",
      "Cell \u001b[0;32mIn[87], line 1\u001b[0m\n\u001b[0;32m----> 1\u001b[0m \u001b[43mx\u001b[49m\u001b[38;5;241;43m.\u001b[39;49m\u001b[43madd\u001b[49m(\u001b[38;5;124m'\u001b[39m\u001b[38;5;124mcs\u001b[39m\u001b[38;5;124m'\u001b[39m)\n",
      "\u001b[0;31mAttributeError\u001b[0m: 'frozenset' object has no attribute 'add'"
     ]
    }
   ],
   "source": [
    "x.add('cs')"
   ]
  },
  {
   "cell_type": "code",
   "execution_count": 88,
   "id": "d40cd4ab-a3f0-4d9c-9b29-e71c9798e17d",
   "metadata": {},
   "outputs": [
    {
     "ename": "TypeError",
     "evalue": "'frozenset' object is not subscriptable",
     "output_type": "error",
     "traceback": [
      "\u001b[0;31m---------------------------------------------------------------------------\u001b[0m",
      "\u001b[0;31mTypeError\u001b[0m                                 Traceback (most recent call last)",
      "Cell \u001b[0;32mIn[88], line 1\u001b[0m\n\u001b[0;32m----> 1\u001b[0m \u001b[43mx\u001b[49m\u001b[43m[\u001b[49m\u001b[38;5;241;43m2\u001b[39;49m\u001b[43m]\u001b[49m\n",
      "\u001b[0;31mTypeError\u001b[0m: 'frozenset' object is not subscriptable"
     ]
    }
   ],
   "source": [
    "x[2]"
   ]
  },
  {
   "cell_type": "code",
   "execution_count": 89,
   "id": "02afd153-2dbe-4af5-aa35-0eb5c4fc51da",
   "metadata": {},
   "outputs": [
    {
     "ename": "AttributeError",
     "evalue": "'frozenset' object has no attribute 'delete'",
     "output_type": "error",
     "traceback": [
      "\u001b[0;31m---------------------------------------------------------------------------\u001b[0m",
      "\u001b[0;31mAttributeError\u001b[0m                            Traceback (most recent call last)",
      "Cell \u001b[0;32mIn[89], line 1\u001b[0m\n\u001b[0;32m----> 1\u001b[0m \u001b[43mx\u001b[49m\u001b[38;5;241;43m.\u001b[39;49m\u001b[43mdelete\u001b[49m(\u001b[38;5;241m1\u001b[39m)\n",
      "\u001b[0;31mAttributeError\u001b[0m: 'frozenset' object has no attribute 'delete'"
     ]
    }
   ],
   "source": [
    "x.delete(1)"
   ]
  },
  {
   "cell_type": "code",
   "execution_count": null,
   "id": "607b324f-b63d-436e-b71e-1e34bf607eb7",
   "metadata": {},
   "outputs": [],
   "source": [
    "# Q6. Discuss the use cases of tuples and sets in Python programming ?"
   ]
  },
  {
   "cell_type": "code",
   "execution_count": null,
   "id": "0600b526-ea9e-46a6-a690-e5530daef634",
   "metadata": {},
   "outputs": [],
   "source": [
    "## Tuples is immutable . It can not modify\n",
    "# Tuples data structure is where we should not change the original data. \n",
    "## For exam - Aadhar card no. Once it is create it cannot in future.\n",
    "tup ="
   ]
  },
  {
   "cell_type": "code",
   "execution_count": 4,
   "id": "e1168f86-2aba-44ae-8621-95fccb664d90",
   "metadata": {},
   "outputs": [
    {
     "data": {
      "text/plain": [
       "{'apple', 'banana'}"
      ]
     },
     "execution_count": 4,
     "metadata": {},
     "output_type": "execute_result"
    }
   ],
   "source": [
    "## Set are used to remove dupilation and set are unordered \n",
    "# In set, the dupilation of object is not persent .\n",
    "# for example \n",
    "a = {'apple','banana','apple','banana'}\n",
    "a"
   ]
  },
  {
   "cell_type": "code",
   "execution_count": null,
   "id": "7ed63267-3c27-4207-84e8-08054562d57e",
   "metadata": {},
   "outputs": [],
   "source": [
    "# Q7. Describe how to add, modify, and delete items in a dictionary with examples ?"
   ]
  },
  {
   "cell_type": "code",
   "execution_count": 96,
   "id": "9fa3183b-5653-49aa-bd17-e0a75ce41e63",
   "metadata": {},
   "outputs": [
    {
     "data": {
      "text/plain": [
       "{'Company': 'Tata', 'Model': 'Curve', 'Year': 2024, 'Milage': 20, 'Price': 25}"
      ]
     },
     "execution_count": 96,
     "metadata": {},
     "output_type": "execute_result"
    }
   ],
   "source": [
    "car ={'Company':'Tata','Model': 'Curve','Year':2024,'Milage':20,'Price':25}\n",
    "car"
   ]
  },
  {
   "cell_type": "code",
   "execution_count": 97,
   "id": "6586d893-68ca-42ca-bc60-9d9f5b1b007d",
   "metadata": {},
   "outputs": [
    {
     "data": {
      "text/plain": [
       "'Curve'"
      ]
     },
     "execution_count": 97,
     "metadata": {},
     "output_type": "execute_result"
    }
   ],
   "source": [
    "car['Model']  # we can access a dict. by its keys "
   ]
  },
  {
   "cell_type": "code",
   "execution_count": 98,
   "id": "156f7094-4c41-4a4b-a618-829437907bfb",
   "metadata": {},
   "outputs": [
    {
     "data": {
      "text/plain": [
       "{'Company': 'Tata', 'Model': 'Safari', 'Year': 2024, 'Milage': 20, 'Price': 25}"
      ]
     },
     "execution_count": 98,
     "metadata": {},
     "output_type": "execute_result"
    }
   ],
   "source": [
    "car['Model']= 'Safari'  ## We can modify dict. by its key values \n",
    "car"
   ]
  },
  {
   "cell_type": "code",
   "execution_count": 100,
   "id": "6a3832bc-abe9-46b4-8ea1-c116cd462821",
   "metadata": {},
   "outputs": [
    {
     "data": {
      "text/plain": [
       "dict_keys(['Company', 'Model', 'Year', 'Milage', 'Price'])"
      ]
     },
     "execution_count": 100,
     "metadata": {},
     "output_type": "execute_result"
    }
   ],
   "source": [
    "car.keys()"
   ]
  },
  {
   "cell_type": "code",
   "execution_count": 102,
   "id": "467f96a4-2ae5-4c6d-9949-4260518529f6",
   "metadata": {},
   "outputs": [
    {
     "data": {
      "text/plain": [
       "2024"
      ]
     },
     "execution_count": 102,
     "metadata": {},
     "output_type": "execute_result"
    }
   ],
   "source": [
    "car.get('Year')"
   ]
  },
  {
   "cell_type": "code",
   "execution_count": 103,
   "id": "aa8dc670-229c-482f-80f2-5fc06bbeed15",
   "metadata": {},
   "outputs": [
    {
     "data": {
      "text/plain": [
       "{'Company': 'Tata',\n",
       " 'Model': 'Safari',\n",
       " 'Year': 2024,\n",
       " 'Milage': 20,\n",
       " 'Price': 25,\n",
       " 'Color': 'Black'}"
      ]
     },
     "execution_count": 103,
     "metadata": {},
     "output_type": "execute_result"
    }
   ],
   "source": [
    "car['Color'] = 'Black'  ## also we can add value in dict. after creation\n",
    "car"
   ]
  },
  {
   "cell_type": "code",
   "execution_count": 104,
   "id": "67be0fb6-29cf-4488-b641-0877d7e26f51",
   "metadata": {},
   "outputs": [
    {
     "data": {
      "text/plain": [
       "dict_items([('Company', 'Tata'), ('Model', 'Safari'), ('Year', 2024), ('Milage', 20), ('Price', 25), ('Color', 'Black')])"
      ]
     },
     "execution_count": 104,
     "metadata": {},
     "output_type": "execute_result"
    }
   ],
   "source": [
    "car.items()"
   ]
  },
  {
   "cell_type": "code",
   "execution_count": 105,
   "id": "77876909-0475-4544-8e08-8b66d8214dc6",
   "metadata": {},
   "outputs": [],
   "source": [
    "car['Model'] = 'Nexon'  # always used last value "
   ]
  },
  {
   "cell_type": "code",
   "execution_count": 106,
   "id": "e22c33df-9454-458b-b0b9-c8ca495c154e",
   "metadata": {},
   "outputs": [
    {
     "data": {
      "text/plain": [
       "{'Company': 'Tata',\n",
       " 'Model': 'Nexon',\n",
       " 'Year': 2024,\n",
       " 'Milage': 20,\n",
       " 'Price': 25,\n",
       " 'Color': 'Black'}"
      ]
     },
     "execution_count": 106,
     "metadata": {},
     "output_type": "execute_result"
    }
   ],
   "source": [
    "car"
   ]
  },
  {
   "cell_type": "code",
   "execution_count": 107,
   "id": "240d7fbd-211c-48d8-baf4-03d1a9ce8a5e",
   "metadata": {},
   "outputs": [],
   "source": [
    "car1 ={'Class' :'Suv'}"
   ]
  },
  {
   "cell_type": "code",
   "execution_count": 108,
   "id": "21f81adc-f80d-4181-b758-ccc41520fc8d",
   "metadata": {},
   "outputs": [],
   "source": [
    "car.update(car1)  # by using update command be can add to dictionary"
   ]
  },
  {
   "cell_type": "code",
   "execution_count": 109,
   "id": "50c0797c-e081-4754-bb2d-eee28462d9f2",
   "metadata": {},
   "outputs": [
    {
     "data": {
      "text/plain": [
       "{'Company': 'Tata',\n",
       " 'Model': 'Nexon',\n",
       " 'Year': 2024,\n",
       " 'Milage': 20,\n",
       " 'Price': 25,\n",
       " 'Color': 'Black',\n",
       " 'Class': 'Suv'}"
      ]
     },
     "execution_count": 109,
     "metadata": {},
     "output_type": "execute_result"
    }
   ],
   "source": [
    "car"
   ]
  },
  {
   "cell_type": "code",
   "execution_count": 110,
   "id": "40ebf209-c011-4bcb-98be-d4e305581cc1",
   "metadata": {},
   "outputs": [
    {
     "data": {
      "text/plain": [
       "2024"
      ]
     },
     "execution_count": 110,
     "metadata": {},
     "output_type": "execute_result"
    }
   ],
   "source": [
    "car.pop('Year')   #.pop is used when specific value is deleted"
   ]
  },
  {
   "cell_type": "code",
   "execution_count": 111,
   "id": "9aede975-fa23-41fe-89e7-459abeb5390d",
   "metadata": {},
   "outputs": [
    {
     "data": {
      "text/plain": [
       "{'Company': 'Tata',\n",
       " 'Model': 'Nexon',\n",
       " 'Milage': 20,\n",
       " 'Price': 25,\n",
       " 'Color': 'Black',\n",
       " 'Class': 'Suv'}"
      ]
     },
     "execution_count": 111,
     "metadata": {},
     "output_type": "execute_result"
    }
   ],
   "source": [
    "car"
   ]
  },
  {
   "cell_type": "code",
   "execution_count": 113,
   "id": "918e41a2-c44a-4631-99d3-9ff6863df8d6",
   "metadata": {},
   "outputs": [
    {
     "data": {
      "text/plain": [
       "('Class', 'Suv')"
      ]
     },
     "execution_count": 113,
     "metadata": {},
     "output_type": "execute_result"
    }
   ],
   "source": [
    "car.popitem()    #popitem is used to delete the last element of list"
   ]
  },
  {
   "cell_type": "code",
   "execution_count": 114,
   "id": "85f6bc32-7338-449b-9b8f-c76154a78c35",
   "metadata": {},
   "outputs": [],
   "source": [
    "del car['Price']"
   ]
  },
  {
   "cell_type": "code",
   "execution_count": 115,
   "id": "b35b39d1-696f-47a3-886e-34166bd29cd1",
   "metadata": {},
   "outputs": [
    {
     "data": {
      "text/plain": [
       "{'Company': 'Tata', 'Model': 'Nexon', 'Milage': 20, 'Color': 'Black'}"
      ]
     },
     "execution_count": 115,
     "metadata": {},
     "output_type": "execute_result"
    }
   ],
   "source": [
    "car"
   ]
  },
  {
   "cell_type": "code",
   "execution_count": 116,
   "id": "8bdb22eb-6cd1-4d19-886e-f657e0619919",
   "metadata": {},
   "outputs": [],
   "source": [
    "car.clear()    # .clear for delete all the element of the dictionary"
   ]
  },
  {
   "cell_type": "code",
   "execution_count": 117,
   "id": "55f34eed-ece3-49dd-b7e9-d389f6a9d243",
   "metadata": {},
   "outputs": [
    {
     "data": {
      "text/plain": [
       "dict"
      ]
     },
     "execution_count": 117,
     "metadata": {},
     "output_type": "execute_result"
    }
   ],
   "source": [
    "type(car)"
   ]
  },
  {
   "cell_type": "code",
   "execution_count": 118,
   "id": "80aef957-c631-4d8f-8d94-809bc8b97058",
   "metadata": {},
   "outputs": [],
   "source": [
    "del car   ## for delete the dictionary"
   ]
  },
  {
   "cell_type": "code",
   "execution_count": 119,
   "id": "e3d090fd-192c-4d2a-995f-486a79a237d5",
   "metadata": {},
   "outputs": [
    {
     "ename": "NameError",
     "evalue": "name 'car' is not defined",
     "output_type": "error",
     "traceback": [
      "\u001b[0;31m---------------------------------------------------------------------------\u001b[0m",
      "\u001b[0;31mNameError\u001b[0m                                 Traceback (most recent call last)",
      "Cell \u001b[0;32mIn[119], line 1\u001b[0m\n\u001b[0;32m----> 1\u001b[0m \u001b[38;5;28mtype\u001b[39m(\u001b[43mcar\u001b[49m)\n",
      "\u001b[0;31mNameError\u001b[0m: name 'car' is not defined"
     ]
    }
   ],
   "source": [
    "type(car)"
   ]
  },
  {
   "cell_type": "code",
   "execution_count": null,
   "id": "70fc3dfd-45b7-415e-9ec2-5bd63de1f485",
   "metadata": {},
   "outputs": [],
   "source": [
    "#Q8. Discuss the importance of dictionary keys being immutable and provide example"
   ]
  },
  {
   "cell_type": "code",
   "execution_count": null,
   "id": "42740a43-e4c1-4ab9-a85c-cf687435e4ff",
   "metadata": {},
   "outputs": [],
   "source": [
    "## In a dictionary, the key part must be immutable. This means that once a key is created,\n",
    "## it cannot be changed. Immutability is essential for keys because it ensures that the dictionary can\n",
    "## efficiently look up values based on their keys. If a key was mutable, its hash value could change, \n",
    "## making it impossible to find the associated value in the dictionary. \n",
    "## For example, in the following dictionary:"
   ]
  },
  {
   "cell_type": "code",
   "execution_count": 2,
   "id": "6c8317ef-fb7b-457c-ad71-83ca50fd4170",
   "metadata": {},
   "outputs": [],
   "source": [
    "d = {'name': 'Alice', 'age': 30} ##'Name' and 'age' are the keys (immutable), and 'Alice' and '30' are the values (mutable"
   ]
  },
  {
   "cell_type": "code",
   "execution_count": 3,
   "id": "0dcf12ff-6ce7-441f-ba37-86edfc3ee013",
   "metadata": {},
   "outputs": [
    {
     "data": {
      "text/plain": [
       "{'name': 'Alice', 'age': 30}"
      ]
     },
     "execution_count": 3,
     "metadata": {},
     "output_type": "execute_result"
    }
   ],
   "source": [
    "d"
   ]
  },
  {
   "cell_type": "code",
   "execution_count": null,
   "id": "a2f3b4ed-1b53-421d-871f-43d9b10bfcd3",
   "metadata": {},
   "outputs": [],
   "source": []
  }
 ],
 "metadata": {
  "kernelspec": {
   "display_name": "Python 3 (ipykernel)",
   "language": "python",
   "name": "python3"
  },
  "language_info": {
   "codemirror_mode": {
    "name": "ipython",
    "version": 3
   },
   "file_extension": ".py",
   "mimetype": "text/x-python",
   "name": "python",
   "nbconvert_exporter": "python",
   "pygments_lexer": "ipython3",
   "version": "3.10.8"
  }
 },
 "nbformat": 4,
 "nbformat_minor": 5
}
