{
 "cells": [
  {
   "cell_type": "code",
   "execution_count": 3,
   "id": "53755035-3b62-4446-8bc4-0d0684332ea3",
   "metadata": {},
   "outputs": [],
   "source": [
    "import os\n"
   ]
  },
  {
   "cell_type": "code",
   "execution_count": 4,
   "id": "e201f032-4f90-40d7-8ece-5678345f4942",
   "metadata": {},
   "outputs": [
    {
     "data": {
      "text/plain": [
       "'/home/jovyan/work'"
      ]
     },
     "execution_count": 4,
     "metadata": {},
     "output_type": "execute_result"
    }
   ],
   "source": [
    "os.getcwd()"
   ]
  },
  {
   "cell_type": "code",
   "execution_count": 5,
   "id": "80cb95eb-6e1f-491e-94d0-5c2ebda544fb",
   "metadata": {},
   "outputs": [],
   "source": [
    "## Task 1 : Create new text file and write a few lines of text into it . "
   ]
  },
  {
   "cell_type": "code",
   "execution_count": 6,
   "id": "d50fd387-30cb-4b6b-8646-d4479f2ce439",
   "metadata": {},
   "outputs": [],
   "source": [
    "file = open(\"text.txt\", \"w\") # In this way we can create a file with the help of 'w'\n",
    "## \"w\" - create a file or over write a existing file \n",
    "## \"r\" - open a file in read mode \n",
    "##"
   ]
  },
  {
   "cell_type": "code",
   "execution_count": 7,
   "id": "647c9b59-e5ac-4248-a0b1-100c9d733899",
   "metadata": {},
   "outputs": [
    {
     "data": {
      "text/plain": [
       "22"
      ]
     },
     "execution_count": 7,
     "metadata": {},
     "output_type": "execute_result"
    }
   ],
   "source": [
    "file.write(\"The first line of code in this file\\n\")## we can write a line with the .write \n",
    "file.write(\"Ashutosh is agood boy\\n\")"
   ]
  },
  {
   "cell_type": "code",
   "execution_count": 8,
   "id": "39eaf2d8-69c9-41a1-9f6e-c285e41386b9",
   "metadata": {},
   "outputs": [],
   "source": [
    "file.close()"
   ]
  },
  {
   "cell_type": "code",
   "execution_count": 9,
   "id": "67241767-f241-4754-b501-97eec3865936",
   "metadata": {},
   "outputs": [],
   "source": [
    "##Task 2 : Open and read the contents of the file you just created \u0011"
   ]
  },
  {
   "cell_type": "code",
   "execution_count": 10,
   "id": "752cc35b-c085-4ed8-8e8a-41c172a9d915",
   "metadata": {},
   "outputs": [],
   "source": [
    "file = open(\"text.txt\", \"r\") ##  first of all open file in right mode "
   ]
  },
  {
   "cell_type": "code",
   "execution_count": 11,
   "id": "6d8a41a9-9a65-4e1c-a5d3-e9ab8cc7a9fa",
   "metadata": {},
   "outputs": [
    {
     "data": {
      "text/plain": [
       "'The first line of code in this file\\nAshutosh is agood boy\\n'"
      ]
     },
     "execution_count": 11,
     "metadata": {},
     "output_type": "execute_result"
    }
   ],
   "source": [
    "file.read()  ## then, access file content by .read "
   ]
  },
  {
   "cell_type": "code",
   "execution_count": 12,
   "id": "b0ebc5ac-f657-48e9-ac0f-544936968ae5",
   "metadata": {},
   "outputs": [
    {
     "name": "stdout",
     "output_type": "stream",
     "text": [
      "The first line of code in this file\n",
      "\n"
     ]
    }
   ],
   "source": [
    "file.seek(0)\n",
    "content = file.readline()   ## .readline is used to read only one line of code \n",
    "print(content)"
   ]
  },
  {
   "cell_type": "code",
   "execution_count": 13,
   "id": "7149ca46-9158-4f6f-b867-aa220aacc9df",
   "metadata": {},
   "outputs": [
    {
     "name": "stdout",
     "output_type": "stream",
     "text": [
      "['The first line of code in this file\\n', 'Ashutosh is agood boy\\n']\n"
     ]
    }
   ],
   "source": [
    "file.seek(0)\n",
    "print(file.readlines())   ## .readlines is used to read all lines in text file "
   ]
  },
  {
   "cell_type": "code",
   "execution_count": 14,
   "id": "0fddb6e1-77b0-4e45-9dab-878992d8bd1a",
   "metadata": {},
   "outputs": [],
   "source": [
    "file.close()"
   ]
  },
  {
   "cell_type": "code",
   "execution_count": 15,
   "id": "c8780ab2-2185-4e46-8748-822579d96f4b",
   "metadata": {},
   "outputs": [],
   "source": [
    "##Task 3 : Add additional text to the existing file without deleting the current content . "
   ]
  },
  {
   "cell_type": "code",
   "execution_count": 16,
   "id": "123f18f7-0c04-4f8e-8a65-8fa55a711a32",
   "metadata": {},
   "outputs": [
    {
     "data": {
      "text/plain": [
       "19"
      ]
     },
     "execution_count": 16,
     "metadata": {},
     "output_type": "execute_result"
    }
   ],
   "source": [
    "file = open(\"text.txt\",\"a\")\n",
    "file.write(\"I am pursing Mca from ggsipu\\n\")\n",
    "file.write(\"I is 2 year program\")"
   ]
  },
  {
   "cell_type": "code",
   "execution_count": 17,
   "id": "ac3b0ae1-b2e3-433d-9464-b9fb842a530f",
   "metadata": {},
   "outputs": [],
   "source": [
    "file.close()"
   ]
  },
  {
   "cell_type": "code",
   "execution_count": 21,
   "id": "eef2900a-7b43-412e-bd92-316addb1eb61",
   "metadata": {},
   "outputs": [
    {
     "data": {
      "text/plain": [
       "'The first line of code in this file\\nAshutosh is agood boy\\nI am pursing Mca from ggsipu\\nI is 2 year program'"
      ]
     },
     "execution_count": 21,
     "metadata": {},
     "output_type": "execute_result"
    }
   ],
   "source": [
    "file = open(\"text.txt\",\"r\")\n",
    "file.seek(0)  ## .seek is used to set cursor to the zero or initial point  \n",
    "\n",
    "file.read()"
   ]
  },
  {
   "cell_type": "code",
   "execution_count": 22,
   "id": "fa1703ac-7a29-42c3-9d79-d189d6fb01b0",
   "metadata": {},
   "outputs": [],
   "source": [
    "file.close()"
   ]
  },
  {
   "cell_type": "code",
   "execution_count": 23,
   "id": "ab334704-cbf1-4f7a-b6cb-f8e0e79af75d",
   "metadata": {},
   "outputs": [],
   "source": [
    "##Task 4 : Read and point each line from the file one by one.\n"
   ]
  },
  {
   "cell_type": "code",
   "execution_count": 24,
   "id": "63eb9294-8e3e-4b6e-8e0c-9e97a5a1d172",
   "metadata": {},
   "outputs": [],
   "source": [
    "## ther are many methods for this \n",
    "##we see here two methods one is by loop and other is .read "
   ]
  },
  {
   "cell_type": "code",
   "execution_count": 25,
   "id": "4d6d4b65-71db-43b7-848e-c98ad8bfb3ae",
   "metadata": {},
   "outputs": [
    {
     "name": "stdout",
     "output_type": "stream",
     "text": [
      "The first line of code in this file\n",
      "\n",
      "Ashutosh is agood boy\n",
      "\n",
      "I am pursing Mca from ggsipu\n",
      "\n",
      "I is 2 year program\n"
     ]
    }
   ],
   "source": [
    "file = open(\"text.txt\" ,\"r\")\n",
    "for i in file:\n",
    "    print(i)\n",
    "\n",
    "file.close()    "
   ]
  },
  {
   "cell_type": "code",
   "execution_count": 26,
   "id": "9d06b662-7512-4306-adb2-7a18bf994931",
   "metadata": {},
   "outputs": [
    {
     "name": "stdout",
     "output_type": "stream",
     "text": [
      "The first line of code in this file\n",
      "Ashutosh is agood boy\n",
      "I am pursing Mca from ggsipu\n",
      "I is 2 year program\n"
     ]
    }
   ],
   "source": [
    "f = open(\"text.txt\",\"r\")\n",
    "f.seek(0)\n",
    "print(f.read())\n",
    "f.close()"
   ]
  },
  {
   "cell_type": "code",
   "execution_count": 48,
   "id": "b5ec60e8-adfc-4571-a848-aac977b2ecc4",
   "metadata": {},
   "outputs": [
    {
     "data": {
      "text/plain": [
       "['Ashutosh', 'Shivam', 'Shailesh', 'Monu', 'Sonu']"
      ]
     },
     "execution_count": 48,
     "metadata": {},
     "output_type": "execute_result"
    }
   ],
   "source": [
    "## Task 5 : write the contents of the list to a file; with each item on a new line?\n",
    "\n",
    "student_list = ['Ashutosh','Shivam','Shailesh','Monu','Sonu']\n",
    "student_list"
   ]
  },
  {
   "cell_type": "code",
   "execution_count": 49,
   "id": "bc44defc-de0b-4b92-8df2-ab1f7e5aa7c5",
   "metadata": {},
   "outputs": [],
   "source": [
    "items = open(\"exam.txt\",\"w\")\n",
    "for i in student_list:\n",
    "    items.write(f\"{i}\\n\")\n",
    "    \n",
    "items.close()    "
   ]
  },
  {
   "cell_type": "code",
   "execution_count": 50,
   "id": "f5a1d950-f8d2-470d-a4bd-85140539a5c8",
   "metadata": {},
   "outputs": [],
   "source": [
    "items = open(\"exam.txt\",\"r\")"
   ]
  },
  {
   "cell_type": "code",
   "execution_count": 51,
   "id": "9c073087-f409-490e-b43b-905ff248e577",
   "metadata": {},
   "outputs": [
    {
     "name": "stdout",
     "output_type": "stream",
     "text": [
      "Ashutosh\n",
      "Shivam\n",
      "Shailesh\n",
      "Monu\n",
      "Sonu\n",
      "\n"
     ]
    }
   ],
   "source": [
    "items.seek(0)\n",
    "print(items.read())"
   ]
  },
  {
   "cell_type": "code",
   "execution_count": 31,
   "id": "3293c42f-cd59-4031-bd92-1777611e3489",
   "metadata": {},
   "outputs": [],
   "source": [
    "##Task 6 : Read the file content into a list; where each line is an element of the list"
   ]
  },
  {
   "cell_type": "code",
   "execution_count": 32,
   "id": "3270e768-f528-47b8-a298-a44b7e01b004",
   "metadata": {},
   "outputs": [
    {
     "name": "stdout",
     "output_type": "stream",
     "text": [
      "['The first line of code in this file', 'Ashutosh is agood boy', 'I am pursing Mca from ggsipu', 'I is 2 year program']\n"
     ]
    }
   ],
   "source": [
    "file = open(\"text.txt\",\"r\")\n",
    "file.seek(0)\n",
    "r = file.readlines()\n",
    "list = []\n",
    "for lines in r:\n",
    "    list.append(lines.strip())\n",
    "    \n",
    "print(list) \n",
    "\n",
    "\n",
    "file.close()"
   ]
  },
  {
   "cell_type": "code",
   "execution_count": 33,
   "id": "e7466264-0a18-45c9-9814-661f3f451ae8",
   "metadata": {},
   "outputs": [
    {
     "name": "stdout",
     "output_type": "stream",
     "text": [
      "['The first line of code in this file\\n', 'Ashutosh is agood boy\\n', 'I am pursing Mca from ggsipu\\n', 'I is 2 year program']\n"
     ]
    }
   ],
   "source": [
    "file = open(\"text.txt\",\"r\")\n",
    "file.seek(0)\n",
    "r = file.readlines()\n",
    "print(r)"
   ]
  },
  {
   "cell_type": "code",
   "execution_count": 34,
   "id": "49a0f2c1-99aa-4370-a44f-a40b8d65a2c7",
   "metadata": {},
   "outputs": [],
   "source": [
    "## Task 7 : Count the total number of words in the file"
   ]
  },
  {
   "cell_type": "code",
   "execution_count": 35,
   "id": "afcf0dbd-6f9d-4506-9a1b-28af45e3a71e",
   "metadata": {},
   "outputs": [
    {
     "data": {
      "text/plain": [
       "106"
      ]
     },
     "execution_count": 35,
     "metadata": {},
     "output_type": "execute_result"
    }
   ],
   "source": [
    "os.path.getsize(\"text.txt\") ### find the size of the file in (bits)"
   ]
  },
  {
   "cell_type": "code",
   "execution_count": 52,
   "id": "117f29c3-7b33-487e-b4e2-a1f1cc27e37e",
   "metadata": {},
   "outputs": [
    {
     "data": {
      "text/plain": [
       "35"
      ]
     },
     "execution_count": 52,
     "metadata": {},
     "output_type": "execute_result"
    }
   ],
   "source": [
    "os.path.getsize(\"exam.txt\")"
   ]
  },
  {
   "cell_type": "code",
   "execution_count": 37,
   "id": "a752894f-9eab-4eee-8d9b-82b6e001d7d2",
   "metadata": {},
   "outputs": [
    {
     "name": "stdout",
     "output_type": "stream",
     "text": [
      "Number of words: 23\n"
     ]
    }
   ],
   "source": [
    "file = open(\"text.txt\", \"r\")   ## first of open file in read mode \n",
    "contents = file.read()      ## then read line by line \n",
    "file.close()   # close the file\n",
    "\n",
    "word_list = contents.split()   ## splite content  by .split\n",
    "num_words = len(word_list)\n",
    "\n",
    "print(\"Number of words:\", num_words) "
   ]
  },
  {
   "cell_type": "code",
   "execution_count": 38,
   "id": "3ccfc9cc-2ff4-4030-9426-b44551599877",
   "metadata": {},
   "outputs": [],
   "source": [
    "## Task 8 : Copy the contents of one file to another file."
   ]
  },
  {
   "cell_type": "code",
   "execution_count": 69,
   "id": "9ddd6c99-05b7-4c1b-b4b9-c476a07f6d92",
   "metadata": {},
   "outputs": [],
   "source": [
    "with open(\"text.txt\",\"r\") as f:\n",
    "    with open(\"test.txt\", \"w\") as f1:\n",
    "        for line in f:\n",
    "            f1.write(line)"
   ]
  },
  {
   "cell_type": "code",
   "execution_count": 70,
   "id": "89dfbf44-4750-46b6-b600-57f4cf97e829",
   "metadata": {},
   "outputs": [
    {
     "data": {
      "text/plain": [
       "'The first line of code in this file\\nAshutosh is agood boy\\nI am pursing Mca from ggsipu\\nI is 2 year program'"
      ]
     },
     "execution_count": 70,
     "metadata": {},
     "output_type": "execute_result"
    }
   ],
   "source": [
    "file = open(\"test.txt\",\"r\")\n",
    "file.read()"
   ]
  },
  {
   "cell_type": "code",
   "execution_count": 55,
   "id": "dc98a004-5361-43e3-8754-476039924f50",
   "metadata": {},
   "outputs": [],
   "source": [
    "with open(\"text.txt\",\"r\") as f:\n",
    "    with open(\"exam.txt\", \"a\") as f1:\n",
    "        for line in f:\n",
    "            f1.write(line)"
   ]
  },
  {
   "cell_type": "code",
   "execution_count": 61,
   "id": "cf4ebe4a-4b1a-4faa-ac35-b2fbe5baba9e",
   "metadata": {},
   "outputs": [
    {
     "name": "stdout",
     "output_type": "stream",
     "text": [
      "Ashutosh\n",
      "Shivam\n",
      "Shailesh\n",
      "Monu\n",
      "Sonu\n",
      "The first line of code in this file\n",
      "Ashutosh is agood boy\n",
      "I am pursing Mca from ggsipu\n",
      "I is 2 year program\n"
     ]
    }
   ],
   "source": [
    "with open(\"exam.txt\", \"r\") as f1:\n",
    "    f = f1.read()\n",
    "    print(f)"
   ]
  },
  {
   "cell_type": "code",
   "execution_count": 62,
   "id": "c3b25c4f-7ef1-4be6-be11-37899a2e2677",
   "metadata": {},
   "outputs": [],
   "source": [
    "##Task 9: Check if a file exists before attempting to read it."
   ]
  },
  {
   "cell_type": "code",
   "execution_count": 64,
   "id": "60923ccb-b33b-4ce7-8062-de6deac153bc",
   "metadata": {},
   "outputs": [
    {
     "data": {
      "text/plain": [
       "True"
      ]
     },
     "execution_count": 64,
     "metadata": {},
     "output_type": "execute_result"
    }
   ],
   "source": [
    "os.path.exists(\"exam.txt\")   ## we can check if a file exist in our directory or not by help of this command "
   ]
  },
  {
   "cell_type": "code",
   "execution_count": 65,
   "id": "2f00af90-4cb0-4586-a95e-41959939471d",
   "metadata": {},
   "outputs": [
    {
     "data": {
      "text/plain": [
       "False"
      ]
     },
     "execution_count": 65,
     "metadata": {},
     "output_type": "execute_result"
    }
   ],
   "source": [
    "os.path.exists(\"file.csv\")"
   ]
  },
  {
   "cell_type": "code",
   "execution_count": 71,
   "id": "9cda8667-c175-4e55-b2f2-42dd175ee006",
   "metadata": {},
   "outputs": [],
   "source": [
    "### Task 10: Delete a file using python"
   ]
  },
  {
   "cell_type": "code",
   "execution_count": 72,
   "id": "012b4e88-8448-4764-8c05-5f77ee838391",
   "metadata": {},
   "outputs": [
    {
     "data": {
      "text/plain": [
       "True"
      ]
     },
     "execution_count": 72,
     "metadata": {},
     "output_type": "execute_result"
    }
   ],
   "source": [
    "os.path.exists(\"test.txt\")"
   ]
  },
  {
   "cell_type": "code",
   "execution_count": 73,
   "id": "86cd1040-cff8-4493-b0e5-d396723d22a9",
   "metadata": {},
   "outputs": [],
   "source": [
    "os.remove(\"test.txt\")  ## we can dele"
   ]
  },
  {
   "cell_type": "code",
   "execution_count": 74,
   "id": "f4f1c555-b0f9-4b96-9236-ab1a28f4d768",
   "metadata": {},
   "outputs": [
    {
     "data": {
      "text/plain": [
       "False"
      ]
     },
     "execution_count": 74,
     "metadata": {},
     "output_type": "execute_result"
    }
   ],
   "source": [
    "os.path.exists(\"test.txt\")"
   ]
  },
  {
   "cell_type": "code",
   "execution_count": null,
   "id": "c4b44fdf-c225-48c0-b4f4-b2b729f1abdd",
   "metadata": {},
   "outputs": [],
   "source": []
  }
 ],
 "metadata": {
  "kernelspec": {
   "display_name": "Python 3 (ipykernel)",
   "language": "python",
   "name": "python3"
  },
  "language_info": {
   "codemirror_mode": {
    "name": "ipython",
    "version": 3
   },
   "file_extension": ".py",
   "mimetype": "text/x-python",
   "name": "python",
   "nbconvert_exporter": "python",
   "pygments_lexer": "ipython3",
   "version": "3.10.8"
  }
 },
 "nbformat": 4,
 "nbformat_minor": 5
}
