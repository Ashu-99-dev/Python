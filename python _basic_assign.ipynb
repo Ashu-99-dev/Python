{
 "cells": [
  {
   "cell_type": "raw",
   "id": "cc7465c4-9034-43c7-93b6-163a55414811",
   "metadata": {},
   "source": [
    "Q2. Describe the role of predefined keywords in Python and provide examples of how they are used in a\n",
    "program ?"
   ]
  },
  {
   "cell_type": "code",
   "execution_count": 2,
   "id": "ad54bd73-9676-4ff1-a787-23a54ea47118",
   "metadata": {},
   "outputs": [
    {
     "name": "stdout",
     "output_type": "stream",
     "text": [
      "\n",
      "Here is a list of the Python keywords.  Enter any keyword to get more help.\n",
      "\n",
      "False               class               from                or\n",
      "None                continue            global              pass\n",
      "True                def                 if                  raise\n",
      "and                 del                 import              return\n",
      "as                  elif                in                  try\n",
      "assert              else                is                  while\n",
      "async               except              lambda              with\n",
      "await               finally             nonlocal            yield\n",
      "break               for                 not                 \n",
      "\n"
     ]
    }
   ],
   "source": [
    "help('keywords')"
   ]
  },
  {
   "cell_type": "code",
   "execution_count": 5,
   "id": "b6a9cb49-0dfa-4329-80b0-4b4b5aafbad0",
   "metadata": {},
   "outputs": [],
   "source": [
    "## These are predefine keyword and these are help in many ways .\n",
    "# for exampale - import is used for import a library such as\n"
   ]
  },
  {
   "cell_type": "code",
   "execution_count": 92,
   "id": "897ffa9e-b8bd-4783-b11e-b00f9a1fec2a",
   "metadata": {},
   "outputs": [
    {
     "name": "stdout",
     "output_type": "stream",
     "text": [
      "3.10.8 | packaged by conda-forge | (main, Nov 22 2022, 08:26:04) [GCC 10.4.0]\n"
     ]
    }
   ],
   "source": [
    "import sys \n",
    "print(sys.version)"
   ]
  },
  {
   "cell_type": "code",
   "execution_count": 7,
   "id": "d3a6a009-3047-443e-997c-92e9a9c5b94f",
   "metadata": {},
   "outputs": [
    {
     "data": {
      "text/plain": [
       "True"
      ]
     },
     "execution_count": 7,
     "metadata": {},
     "output_type": "execute_result"
    }
   ],
   "source": [
    "# for example- true and false  is used for whether the statment is correct or wrong \n",
    "3>=2"
   ]
  },
  {
   "cell_type": "raw",
   "id": "328b38ce-02db-4aab-8e6c-84238dcf21f9",
   "metadata": {},
   "source": [
    "Q3. Compare and contrast mutable and immutable objects in Python with examples"
   ]
  },
  {
   "cell_type": "code",
   "execution_count": null,
   "id": "6b45119e-14a5-47e8-b495-d97e1cdd8d6b",
   "metadata": {},
   "outputs": [],
   "source": [
    "#objects/container whose state or value can not be changed after they are created are called as immutable objects or container, \n",
    "#string is a type of immutable object/ doesn't supports item assignment"
   ]
  },
  {
   "cell_type": "code",
   "execution_count": 8,
   "id": "a19d509c-b876-46d3-9896-6d30de29994f",
   "metadata": {},
   "outputs": [
    {
     "data": {
      "text/plain": [
       "'ashutosh'"
      ]
     },
     "execution_count": 8,
     "metadata": {},
     "output_type": "execute_result"
    }
   ],
   "source": [
    "a =\"ashutosh\"\n",
    "a"
   ]
  },
  {
   "cell_type": "code",
   "execution_count": 9,
   "id": "d9197cce-1d2d-4dec-99ed-1fe951136feb",
   "metadata": {},
   "outputs": [
    {
     "data": {
      "text/plain": [
       "'s'"
      ]
     },
     "execution_count": 9,
     "metadata": {},
     "output_type": "execute_result"
    }
   ],
   "source": [
    "a[1]"
   ]
  },
  {
   "cell_type": "code",
   "execution_count": 10,
   "id": "1e84fc9a-bcc8-4ebc-926d-6157889c464f",
   "metadata": {},
   "outputs": [
    {
     "ename": "TypeError",
     "evalue": "'str' object does not support item assignment",
     "output_type": "error",
     "traceback": [
      "\u001b[0;31m---------------------------------------------------------------------------\u001b[0m",
      "\u001b[0;31mTypeError\u001b[0m                                 Traceback (most recent call last)",
      "Cell \u001b[0;32mIn[10], line 1\u001b[0m\n\u001b[0;32m----> 1\u001b[0m \u001b[43ma\u001b[49m\u001b[43m[\u001b[49m\u001b[38;5;241;43m1\u001b[39;49m\u001b[43m]\u001b[49m\u001b[38;5;241m=\u001b[39m\u001b[38;5;124m\"\u001b[39m\u001b[38;5;124mu\u001b[39m\u001b[38;5;124m\"\u001b[39m\n",
      "\u001b[0;31mTypeError\u001b[0m: 'str' object does not support item assignment"
     ]
    }
   ],
   "source": [
    "a[1]=\"u\""
   ]
  },
  {
   "cell_type": "code",
   "execution_count": null,
   "id": "1f09cae4-342f-4421-bb92-9613206bf885",
   "metadata": {},
   "outputs": [],
   "source": [
    "#objects/container whose state or value can be changed after they are created arecalled as mutable objects or container, \n",
    "#string is a type of immutable object/ doesn't supports item assignment"
   ]
  },
  {
   "cell_type": "code",
   "execution_count": 12,
   "id": "d3d6a1ed-f5c7-44bc-b5bb-787ed8921225",
   "metadata": {},
   "outputs": [
    {
     "data": {
      "text/plain": [
       "[1, 4, 'Ashu', (3+5j), 10.2]"
      ]
     },
     "execution_count": 12,
     "metadata": {},
     "output_type": "execute_result"
    }
   ],
   "source": [
    "list =[1,4,\"Ashu\",3+5j,10.2]\n",
    "list\n",
    "#List is a type of container in which we all type of values like string ,int,float,complex,etc."
   ]
  },
  {
   "cell_type": "code",
   "execution_count": 13,
   "id": "a44ef14d-0c7f-417e-a8b3-f0096274064b",
   "metadata": {},
   "outputs": [
    {
     "data": {
      "text/plain": [
       "1"
      ]
     },
     "execution_count": 13,
     "metadata": {},
     "output_type": "execute_result"
    }
   ],
   "source": [
    "list[0]"
   ]
  },
  {
   "cell_type": "code",
   "execution_count": 14,
   "id": "68c6af83-7485-4fad-be35-ba2c216ad040",
   "metadata": {},
   "outputs": [
    {
     "data": {
      "text/plain": [
       "4"
      ]
     },
     "execution_count": 14,
     "metadata": {},
     "output_type": "execute_result"
    }
   ],
   "source": [
    "list[1]"
   ]
  },
  {
   "cell_type": "code",
   "execution_count": 15,
   "id": "699bdb7f-d52b-439f-ac8b-c85523efe1e7",
   "metadata": {},
   "outputs": [
    {
     "data": {
      "text/plain": [
       "[1, 'tiwari', 'Ashu', (3+5j), 10.2]"
      ]
     },
     "execution_count": 15,
     "metadata": {},
     "output_type": "execute_result"
    }
   ],
   "source": [
    "list[1]=\"tiwari\"\n",
    "list"
   ]
  },
  {
   "cell_type": "raw",
   "id": "3efff028-a2bd-4987-8460-94c3e2e079d8",
   "metadata": {},
   "source": [
    "Q4. Discuss the different types of operators in Python and provide examples of how they are used"
   ]
  },
  {
   "cell_type": "code",
   "execution_count": 20,
   "id": "721c9431-430e-4aa9-bc15-29ce1b28a5eb",
   "metadata": {},
   "outputs": [
    {
     "data": {
      "text/plain": [
       "6"
      ]
     },
     "execution_count": 20,
     "metadata": {},
     "output_type": "execute_result"
    }
   ],
   "source": [
    "# In Python, There are differnt type or operator like arithimetic operators,comparison operator , logical ,bitwise and many more\n",
    "# Arithimatic Operator - Add, sub.,multiply ,division\n",
    "2+4     #addition"
   ]
  },
  {
   "cell_type": "code",
   "execution_count": 21,
   "id": "590fe2c0-c7e2-4b03-bf9a-803c15224927",
   "metadata": {},
   "outputs": [
    {
     "data": {
      "text/plain": [
       "7"
      ]
     },
     "execution_count": 21,
     "metadata": {},
     "output_type": "execute_result"
    }
   ],
   "source": [
    "10-3    #substraction"
   ]
  },
  {
   "cell_type": "code",
   "execution_count": 23,
   "id": "27aabf44-a47e-4ebb-9aec-361eab1d7acb",
   "metadata": {},
   "outputs": [
    {
     "data": {
      "text/plain": [
       "12"
      ]
     },
     "execution_count": 23,
     "metadata": {},
     "output_type": "execute_result"
    }
   ],
   "source": [
    "2*6     #multilpy"
   ]
  },
  {
   "cell_type": "code",
   "execution_count": 25,
   "id": "222e1e19-1dfe-43e5-8e08-bde8c5907b72",
   "metadata": {},
   "outputs": [
    {
     "data": {
      "text/plain": [
       "3"
      ]
     },
     "execution_count": 25,
     "metadata": {},
     "output_type": "execute_result"
    }
   ],
   "source": [
    "6//2     #division and ans in integer"
   ]
  },
  {
   "cell_type": "code",
   "execution_count": 26,
   "id": "6bef33be-8c25-44b1-bef1-4795757043e2",
   "metadata": {},
   "outputs": [
    {
     "data": {
      "text/plain": [
       "2.0"
      ]
     },
     "execution_count": 26,
     "metadata": {},
     "output_type": "execute_result"
    }
   ],
   "source": [
    "6/3    # division and ans in float "
   ]
  },
  {
   "cell_type": "code",
   "execution_count": 27,
   "id": "aa732bd3-952c-4897-b989-c815908ded0b",
   "metadata": {},
   "outputs": [
    {
     "data": {
      "text/plain": [
       "0"
      ]
     },
     "execution_count": 27,
     "metadata": {},
     "output_type": "execute_result"
    }
   ],
   "source": [
    "6%3  # for reminder"
   ]
  },
  {
   "cell_type": "code",
   "execution_count": 28,
   "id": "e6ae5056-57cb-4976-8a55-15f20d121ecd",
   "metadata": {},
   "outputs": [
    {
     "data": {
      "text/plain": [
       "True"
      ]
     },
     "execution_count": 28,
     "metadata": {},
     "output_type": "execute_result"
    }
   ],
   "source": [
    "#Comparison operator - <,>,=,+>,=<\n",
    "#and answer of comparison operator are always in the form of \"true or false\"\n",
    "3>2"
   ]
  },
  {
   "cell_type": "code",
   "execution_count": 29,
   "id": "814345b5-dce5-4598-b466-92d7a6af90b0",
   "metadata": {},
   "outputs": [
    {
     "data": {
      "text/plain": [
       "False"
      ]
     },
     "execution_count": 29,
     "metadata": {},
     "output_type": "execute_result"
    }
   ],
   "source": [
    "10<3"
   ]
  },
  {
   "cell_type": "code",
   "execution_count": 42,
   "id": "9dd390ad-cf4f-4fd5-89e7-a2e001f69370",
   "metadata": {},
   "outputs": [
    {
     "data": {
      "text/plain": [
       "False"
      ]
     },
     "execution_count": 42,
     "metadata": {},
     "output_type": "execute_result"
    }
   ],
   "source": [
    "#logical operator \n",
    "# logical AND - $ \n",
    "#both the given condition are true it will true \n",
    "# if one condition and both conditions are false then it will false . For Exam\n",
    "((4<2) and (9<7))"
   ]
  },
  {
   "cell_type": "code",
   "execution_count": 43,
   "id": "80fcf84c-c5db-4683-b68e-4543c477a6c1",
   "metadata": {},
   "outputs": [
    {
     "data": {
      "text/plain": [
       "True"
      ]
     },
     "execution_count": 43,
     "metadata": {},
     "output_type": "execute_result"
    }
   ],
   "source": [
    "4>2 and 9>7"
   ]
  },
  {
   "cell_type": "code",
   "execution_count": 44,
   "id": "530c015b-48c1-4478-8161-1c3ad9eaa672",
   "metadata": {},
   "outputs": [
    {
     "data": {
      "text/plain": [
       "False"
      ]
     },
     "execution_count": 44,
     "metadata": {},
     "output_type": "execute_result"
    }
   ],
   "source": [
    "4>2 and 7>9"
   ]
  },
  {
   "cell_type": "code",
   "execution_count": 45,
   "id": "1268ad07-9905-4934-b352-47177e809d54",
   "metadata": {},
   "outputs": [
    {
     "data": {
      "text/plain": [
       "False"
      ]
     },
     "execution_count": 45,
     "metadata": {},
     "output_type": "execute_result"
    }
   ],
   "source": [
    "# logical OR - || \n",
    "#both the given condition are false it will false \n",
    "# if one condition and both conditions are ture then it will true . For Exam\n",
    "4<3 or 7>9"
   ]
  },
  {
   "cell_type": "code",
   "execution_count": 46,
   "id": "7a634e2b-976f-4102-9d5d-206c00ba9d8d",
   "metadata": {},
   "outputs": [
    {
     "data": {
      "text/plain": [
       "True"
      ]
     },
     "execution_count": 46,
     "metadata": {},
     "output_type": "execute_result"
    }
   ],
   "source": [
    "43>31 or 7>9"
   ]
  },
  {
   "cell_type": "code",
   "execution_count": 47,
   "id": "1e6e9170-257f-43b6-8872-106dc4077e5f",
   "metadata": {},
   "outputs": [
    {
     "data": {
      "text/plain": [
       "True"
      ]
     },
     "execution_count": 47,
     "metadata": {},
     "output_type": "execute_result"
    }
   ],
   "source": [
    "43>31 or 9>7"
   ]
  },
  {
   "cell_type": "raw",
   "id": "892fa8f2-19e0-4875-96e8-32e4e48b0f07",
   "metadata": {},
   "source": [
    "Q5.Explain the concept of type casting in Python with examles ?"
   ]
  },
  {
   "cell_type": "code",
   "execution_count": 48,
   "id": "65915f0a-b56b-454d-ad25-d4ea5c9b6ba9",
   "metadata": {},
   "outputs": [
    {
     "data": {
      "text/plain": [
       "'AShu'"
      ]
     },
     "execution_count": 48,
     "metadata": {},
     "output_type": "execute_result"
    }
   ],
   "source": [
    "# Type casting is used to convert one data type into another data type \n",
    "# for example - int - float,int - string ,float - string ,float - int \n",
    "# But we cannot convert string to int or float or any of the flowing \n",
    "# for example - \n",
    "a= \"AShu\"\n",
    "a"
   ]
  },
  {
   "cell_type": "code",
   "execution_count": 49,
   "id": "0052bf02-ca48-4081-8d16-3267b4f84ba6",
   "metadata": {},
   "outputs": [
    {
     "data": {
      "text/plain": [
       "str"
      ]
     },
     "execution_count": 49,
     "metadata": {},
     "output_type": "execute_result"
    }
   ],
   "source": [
    "type(a)"
   ]
  },
  {
   "cell_type": "code",
   "execution_count": 66,
   "id": "416ab85d-18ad-428a-8cde-6ec529c29d28",
   "metadata": {},
   "outputs": [
    {
     "data": {
      "text/plain": [
       "2"
      ]
     },
     "execution_count": 66,
     "metadata": {},
     "output_type": "execute_result"
    }
   ],
   "source": [
    "y"
   ]
  },
  {
   "cell_type": "code",
   "execution_count": 50,
   "id": "d0bee602-f840-4c2a-bcd0-c22f671da5d3",
   "metadata": {},
   "outputs": [
    {
     "ename": "ValueError",
     "evalue": "invalid literal for int() with base 10: 'AShu'",
     "output_type": "error",
     "traceback": [
      "\u001b[0;31m---------------------------------------------------------------------------\u001b[0m",
      "\u001b[0;31mValueError\u001b[0m                                Traceback (most recent call last)",
      "Cell \u001b[0;32mIn[50], line 1\u001b[0m\n\u001b[0;32m----> 1\u001b[0m a \u001b[38;5;241m=\u001b[39m \u001b[38;5;28;43mint\u001b[39;49m\u001b[43m(\u001b[49m\u001b[38;5;124;43m\"\u001b[39;49m\u001b[38;5;124;43mAShu\u001b[39;49m\u001b[38;5;124;43m\"\u001b[39;49m\u001b[43m)\u001b[49m\n",
      "\u001b[0;31mValueError\u001b[0m: invalid literal for int() with base 10: 'AShu'"
     ]
    }
   ],
   "source": [
    "a = int(\"AShu\")"
   ]
  },
  {
   "cell_type": "code",
   "execution_count": 58,
   "id": "f76c5bc8-9818-4336-b662-da833e11276a",
   "metadata": {},
   "outputs": [
    {
     "data": {
      "text/plain": [
       "1"
      ]
     },
     "execution_count": 58,
     "metadata": {},
     "output_type": "execute_result"
    }
   ],
   "source": [
    "x= int(1)\n",
    "y= (2.4)\n",
    "z= \"4\"\n",
    "x\n"
   ]
  },
  {
   "cell_type": "code",
   "execution_count": 67,
   "id": "5677a8db-2457-4791-b76e-7346454c259e",
   "metadata": {},
   "outputs": [
    {
     "data": {
      "text/plain": [
       "str"
      ]
     },
     "execution_count": 67,
     "metadata": {},
     "output_type": "execute_result"
    }
   ],
   "source": [
    "type(z)"
   ]
  },
  {
   "cell_type": "code",
   "execution_count": 61,
   "id": "d969ee79-aeb9-48a2-bca3-516b7d6ff234",
   "metadata": {},
   "outputs": [
    {
     "data": {
      "text/plain": [
       "float"
      ]
     },
     "execution_count": 61,
     "metadata": {},
     "output_type": "execute_result"
    }
   ],
   "source": [
    "type(y)"
   ]
  },
  {
   "cell_type": "code",
   "execution_count": 65,
   "id": "adb0b6af-5bf7-4f8b-9fdd-22aff7be3c7e",
   "metadata": {},
   "outputs": [
    {
     "data": {
      "text/plain": [
       "int"
      ]
     },
     "execution_count": 65,
     "metadata": {},
     "output_type": "execute_result"
    }
   ],
   "source": [
    "y = int(2.4)\n",
    "type(y)"
   ]
  },
  {
   "cell_type": "code",
   "execution_count": 68,
   "id": "68136e1e-6c7c-4fa2-b130-3800334ad92c",
   "metadata": {},
   "outputs": [
    {
     "data": {
      "text/plain": [
       "int"
      ]
     },
     "execution_count": 68,
     "metadata": {},
     "output_type": "execute_result"
    }
   ],
   "source": [
    "type(x)"
   ]
  },
  {
   "cell_type": "code",
   "execution_count": 70,
   "id": "e4b6d59e-232c-48e0-8a75-9338bddbbe22",
   "metadata": {},
   "outputs": [
    {
     "data": {
      "text/plain": [
       "'4'"
      ]
     },
     "execution_count": 70,
     "metadata": {},
     "output_type": "execute_result"
    }
   ],
   "source": [
    "z"
   ]
  },
  {
   "cell_type": "code",
   "execution_count": 72,
   "id": "8f909333-97db-4faf-a262-0ef17cee0dfd",
   "metadata": {},
   "outputs": [
    {
     "data": {
      "text/plain": [
       "str"
      ]
     },
     "execution_count": 72,
     "metadata": {},
     "output_type": "execute_result"
    }
   ],
   "source": [
    "type(z)"
   ]
  },
  {
   "cell_type": "code",
   "execution_count": 74,
   "id": "bd389ed5-2526-404c-996d-6ada02db201a",
   "metadata": {},
   "outputs": [
    {
     "data": {
      "text/plain": [
       "4"
      ]
     },
     "execution_count": 74,
     "metadata": {},
     "output_type": "execute_result"
    }
   ],
   "source": [
    "z = int(\"4\")\n",
    "z"
   ]
  },
  {
   "cell_type": "code",
   "execution_count": 76,
   "id": "00627786-1aeb-4fe1-a3b2-33f2361f8f9e",
   "metadata": {},
   "outputs": [
    {
     "data": {
      "text/plain": [
       "int"
      ]
     },
     "execution_count": 76,
     "metadata": {},
     "output_type": "execute_result"
    }
   ],
   "source": [
    "type(z)"
   ]
  },
  {
   "cell_type": "raw",
   "id": "e5cbac92-dacd-4b7b-b4fe-1db644dcd328",
   "metadata": {},
   "source": [
    " Q6. How do conditional statements work in Python? Illustrate with examples ?"
   ]
  },
  {
   "cell_type": "code",
   "execution_count": 79,
   "id": "039c2e0d-c19e-4977-ac88-69b0e5f1084e",
   "metadata": {},
   "outputs": [
    {
     "name": "stdout",
     "output_type": "stream",
     "text": [
      "Enter a number for comaprison 10\n"
     ]
    },
    {
     "name": "stdout",
     "output_type": "stream",
     "text": [
      "if statement is correct\n"
     ]
    }
   ],
   "source": [
    "# COnditional Statement are use to compare two statement . for example\n",
    "a = int(input(\"Enter a number for comaprison\"))\n",
    "if(a>= 10):\n",
    "        print(\"if statement is correct\")\n",
    "else:\n",
    "        print(\"else statement is correct\")"
   ]
  },
  {
   "cell_type": "code",
   "execution_count": 81,
   "id": "b3d5605c-0153-499c-8457-1cdf7bf0d6e4",
   "metadata": {},
   "outputs": [
    {
     "name": "stdout",
     "output_type": "stream",
     "text": [
      "Enter a number for comaprison 7\n"
     ]
    },
    {
     "name": "stdout",
     "output_type": "stream",
     "text": [
      "else statement is correct\n"
     ]
    }
   ],
   "source": [
    "a = int(input(\"Enter a number for comaprison\"))\n",
    "if(a> 10):\n",
    "        print(\"if statement is correct\")\n",
    "else:\n",
    "        print(\"else statement is correct\")"
   ]
  },
  {
   "cell_type": "code",
   "execution_count": 90,
   "id": "60cf9ba5-39d2-454f-b9c8-ad660d814470",
   "metadata": {},
   "outputs": [
    {
     "name": "stdout",
     "output_type": "stream",
     "text": [
      "Enter Marks 56\n"
     ]
    },
    {
     "name": "stdout",
     "output_type": "stream",
     "text": [
      "Grade E\n"
     ]
    }
   ],
   "source": [
    "# now comparinig three or more than three commands by using elif \n",
    "a = int(input(\"Enter Marks\"))\n",
    "if(a>90):\n",
    "    print(\"Grade A\")\n",
    "elif(a>80 or 90<=a):\n",
    "    print(\"Grade B\")\n",
    "elif(a>70 or 80<=a):\n",
    "    print(\"Grade C\")    \n",
    "elif(a>70 or 60<=a):\n",
    "    print(\"Grade D\")\n",
    "elif(a>60 or 50<=a):\n",
    "    print(\"Grade E\")\n",
    "else:\n",
    "    print(\"Fail\")"
   ]
  },
  {
   "cell_type": "raw",
   "id": "0915208a-7053-4d4a-b349-0fc78a955d75",
   "metadata": {},
   "source": [
    "Q7. Describe the different types of loops in Python and their use cases with examples."
   ]
  },
  {
   "cell_type": "code",
   "execution_count": null,
   "id": "cee28f98-6f6a-46af-b03b-55783542457f",
   "metadata": {},
   "outputs": [],
   "source": [
    "#There are two type of loops in python :- 1. For loop 2. While loop \n",
    "#loops are used for doing of repeated task "
   ]
  },
  {
   "cell_type": "code",
   "execution_count": 11,
   "id": "5d1340a1-ef7d-4bac-a00c-5fcffed5f624",
   "metadata": {},
   "outputs": [
    {
     "name": "stdout",
     "output_type": "stream",
     "text": [
      "Enter the required number:- 6\n"
     ]
    },
    {
     "name": "stdout",
     "output_type": "stream",
     "text": [
      "6  x  1   6\n",
      "6  x  2   12\n",
      "6  x  3   18\n",
      "6  x  4   24\n",
      "6  x  5   30\n",
      "6  x  6   36\n",
      "6  x  7   42\n",
      "6  x  8   48\n",
      "6  x  9   54\n",
      "6  x  10   60\n"
     ]
    }
   ],
   "source": [
    "num=int(input(\"Enter the required number:-\"))\n",
    "for i in range(1,11):\n",
    "    mul = i*num\n",
    "    print(num,\" x \",i,\" \",mul)"
   ]
  },
  {
   "cell_type": "code",
   "execution_count": 53,
   "id": "acf5fe42-7700-4b1d-8b30-999b34be56b1",
   "metadata": {},
   "outputs": [
    {
     "name": "stdout",
     "output_type": "stream",
     "text": [
      "* \n",
      "* * \n",
      "* * * \n",
      "* * * * \n",
      "* * * * * \n"
     ]
    }
   ],
   "source": [
    "n= 5\n",
    "for k in range(1,n+1):\n",
    "    for l in range(1):\n",
    "          print(\"* \"*k)\n"
   ]
  },
  {
   "cell_type": "code",
   "execution_count": 58,
   "id": "8ec84d24-267e-4a38-94a7-21e6e2a86df1",
   "metadata": {},
   "outputs": [
    {
     "name": "stdout",
     "output_type": "stream",
     "text": [
      "1\n",
      "2\n",
      "3\n"
     ]
    }
   ],
   "source": [
    "list_1 = [1,2,3,\"AShu\",\"Tiwari\",\"Cloud\"]\n",
    "for i in list_1:\n",
    "    if i== \"AShu\":\n",
    "        break\n",
    "    print(i)"
   ]
  },
  {
   "cell_type": "code",
   "execution_count": 59,
   "id": "218bb529-ca13-456d-9010-01ab68a9a1be",
   "metadata": {},
   "outputs": [
    {
     "name": "stdout",
     "output_type": "stream",
     "text": [
      "1\n",
      "2\n",
      "3\n",
      "Tiwari\n",
      "Cloud\n"
     ]
    }
   ],
   "source": [
    "list_1 = [1,2,3,\"AShu\",\"Tiwari\",\"Cloud\"]\n",
    "for i in list_1:\n",
    "    if i== \"AShu\":\n",
    "        continue\n",
    "    print(i)"
   ]
  },
  {
   "cell_type": "code",
   "execution_count": 1,
   "id": "34664963-14f1-45ac-83ff-3e1c0701105f",
   "metadata": {},
   "outputs": [
    {
     "name": "stdout",
     "output_type": "stream",
     "text": [
      "* * * * * \n",
      "* * * * * \n",
      "* * * * * \n",
      "* * * * * \n",
      "* * * * * \n"
     ]
    }
   ],
   "source": [
    "#square of star \n",
    "for i in range(5):\n",
    "    for j in range(6):\n",
    "        print(end=\"\")\n",
    "    print(\"* \"*j)"
   ]
  },
  {
   "cell_type": "code",
   "execution_count": 3,
   "id": "f8395337-1544-47de-bef6-ef5cb33735f2",
   "metadata": {},
   "outputs": [
    {
     "name": "stdout",
     "output_type": "stream",
     "text": [
      "1\n",
      "2\n",
      "3\n",
      "4\n",
      "5\n",
      "6\n",
      "7\n",
      "8\n",
      "9\n",
      "10\n"
     ]
    }
   ],
   "source": [
    "\n",
    "i=1\n",
    "n=10\n",
    "while i<=n:\n",
    "    print (i)\n",
    "    i = i+1\n",
    "    "
   ]
  },
  {
   "cell_type": "code",
   "execution_count": 3,
   "id": "161ae3e2-dd39-40cf-9993-4459c16bd872",
   "metadata": {},
   "outputs": [
    {
     "name": "stdout",
     "output_type": "stream",
     "text": [
      "A\n",
      "s\n",
      "h\n",
      "u\n",
      " \n",
      "t\n",
      "i\n",
      "w\n",
      "a\n",
      "r\n",
      "i\n"
     ]
    }
   ],
   "source": [
    "a = \"Ashu tiwari\"\n",
    "for i in a:\n",
    "    print(i)"
   ]
  },
  {
   "cell_type": "code",
   "execution_count": null,
   "id": "eb956094-1db8-4b42-90dd-6adfef4a638e",
   "metadata": {},
   "outputs": [],
   "source": []
  },
  {
   "cell_type": "code",
   "execution_count": null,
   "id": "9e3456e2-5ab8-48de-b9c5-db86685e2e3c",
   "metadata": {},
   "outputs": [],
   "source": []
  },
  {
   "cell_type": "code",
   "execution_count": null,
   "id": "d0ec1fd7-9d8a-418d-a3a3-b0d14a97f3b6",
   "metadata": {},
   "outputs": [],
   "source": []
  }
 ],
 "metadata": {
  "kernelspec": {
   "display_name": "Python 3 (ipykernel)",
   "language": "python",
   "name": "python3"
  },
  "language_info": {
   "codemirror_mode": {
    "name": "ipython",
    "version": 3
   },
   "file_extension": ".py",
   "mimetype": "text/x-python",
   "name": "python",
   "nbconvert_exporter": "python",
   "pygments_lexer": "ipython3",
   "version": "3.10.1"
  }
 },
 "nbformat": 4,
 "nbformat_minor": 5
}
